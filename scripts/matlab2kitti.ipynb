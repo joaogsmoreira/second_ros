{
 "cells": [
  {
   "cell_type": "code",
   "execution_count": null,
   "metadata": {},
   "outputs": [],
   "source": [
    "import scipy.io\n",
    "import numpy as np\n",
    "import pandas as pd\n",
    "\n",
    "mat = scipy.io.loadmat('labels.mat')\n",
    "labels = mat['labels'].astype(np.ndarray)\n",
    "# MatLab labels looks like this: ['xctr', 'yctr', 'zctr', 'xlen', 'ylen', 'zlen', 'xrot', 'yrot', 'zrot']\n",
    "\n",
    "df = pd.DataFrame(columns = ['File', 'Label', 'Type', 'Truncated', 'Occluded', 'Alpha', 'BBox', 'Dimensions', 'Location', 'Rotation'])\n",
    "for file_counter, file in enumerate(labels):\n",
    "    for label_counter, label in enumerate(file[0].round(decimals=3)):\n",
    "        new_row = [file_counter, label_counter, 'Pedestrian', 0.0, 0, 0, [0, 0, 50, 50], [label[3], label[4], label[5]], [label[0], label[1], label[2]], [0, 0, 0]]\n",
    "        df.loc[len(df)] = new_row\n",
    "\n",
    "df.set_index(['File', 'Label'], inplace=True)\n",
    "df"
   ]
  },
  {
   "cell_type": "code",
   "execution_count": null,
   "metadata": {},
   "outputs": [],
   "source": [
    "# Writing files\n",
    "for file in range(len(df.groupby(level=0))):\n",
    "    file_data = df.loc[[file]]\n",
    "    for label in range(len(file_data.groupby(level=1))):\n",
    "        label_data = file_data.loc[file, label]\n",
    "        str = f\"{label_data['Type']} {label_data['Truncated']} {label_data['Occluded']} {label_data['Alpha']} {label_data['BBox']} {label_data['Dimensions']} {label_data['Location']} {label_data['Rotation']}\"\n",
    "        print(str.replace(', ', ' ').replace('[', '').replace(']', ''))"
   ]
  }
 ],
 "metadata": {
  "kernelspec": {
   "display_name": "Python 3",
   "language": "python",
   "name": "python3"
  },
  "language_info": {
   "codemirror_mode": {
    "name": "ipython",
    "version": 3
   },
   "file_extension": ".py",
   "mimetype": "text/x-python",
   "name": "python",
   "nbconvert_exporter": "python",
   "pygments_lexer": "ipython3",
   "version": "3.8.10"
  },
  "orig_nbformat": 4
 },
 "nbformat": 4,
 "nbformat_minor": 2
}
